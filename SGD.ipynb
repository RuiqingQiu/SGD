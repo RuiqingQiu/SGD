{
 "metadata": {
  "name": "",
  "signature": "sha256:1b11bf61df5cf6058813b172bf659cd033de30ca57f5234cbdd913887b5882a8"
 },
 "nbformat": 3,
 "nbformat_minor": 0,
 "worksheets": [
  {
   "cells": [
    {
     "cell_type": "code",
     "collapsed": false,
     "input": [
      "import numpy as np"
     ],
     "language": "python",
     "metadata": {},
     "outputs": [],
     "prompt_number": 1
    },
    {
     "cell_type": "code",
     "collapsed": false,
     "input": [
      "n = 2\n",
      "k = 2\n",
      "learning_rate = 0.001\n",
      "M = np.random.randn(n, n)\n",
      "#M = np.random.rand(n,n)\n",
      "print \"M is \", M\n",
      "\n",
      "v = np.random.rand(n,k)\n",
      "u = np.random.rand(n,k)\n",
      "\n",
      "for j in range(0, 10):\n",
      "    for i in range(0, 100):\n",
      "        u = u - learning_rate * ((M - u * np.transpose(v)) * v)\n",
      "    for i in range(0, 100):\n",
      "        v = v - learning_rate * ((M - u * np.transpose(v)) * u)\n",
      "    #print u\n",
      "    #print v\n",
      "print u * np.transpose(v)"
     ],
     "language": "python",
     "metadata": {},
     "outputs": [
      {
       "output_type": "stream",
       "stream": "stdout",
       "text": [
        "M is  [[ 0.23466153  0.5265564 ]\n",
        " [ 1.08732081  2.69537715]]\n",
        "[[-0.03851971 -0.39085446]\n",
        " [-0.17071048 -0.58261616]]\n"
       ]
      }
     ],
     "prompt_number": 4
    },
    {
     "cell_type": "code",
     "collapsed": false,
     "input": [],
     "language": "python",
     "metadata": {},
     "outputs": []
    }
   ],
   "metadata": {}
  }
 ]
}