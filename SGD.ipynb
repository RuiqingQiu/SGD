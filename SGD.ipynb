{
 "metadata": {
  "name": "",
  "signature": "sha256:acbdbd407c38db7e5f334917751b60ee77ce5d5b29afabbd9845245acee2f896"
 },
 "nbformat": 3,
 "nbformat_minor": 0,
 "worksheets": [
  {
   "cells": [
    {
     "cell_type": "code",
     "collapsed": false,
     "input": [
      "import math\n",
      "import numpy as np"
     ],
     "language": "python",
     "metadata": {},
     "outputs": [],
     "prompt_number": 77
    },
    {
     "cell_type": "code",
     "collapsed": false,
     "input": [
      "d = 3\n",
      "k = 3\n",
      "learning_rate = 0.001\n",
      "data_set = []\n",
      "#M = np.random.randn(d, d)\n",
      "#M = np.random.rand(n,n)\n",
      "x1 = np.array(\n",
      "    [[1, 1, 1]]\n",
      ")\n",
      "x2 = np.array(\n",
      "    [[2, 2, 2]]\n",
      ")\n",
      "x3 = np.array(\n",
      "    [[3,3,3]]\n",
      ")\n",
      "data_set.append(x1)\n",
      "data_set.append(x2)\n",
      "data_set.append(x3)\n",
      "# M = data_set[0] * np.transpose(data_set[0])\n",
      "# for i in data_set[1:]:\n",
      "#     M = M + x * np.transpose(x)\n",
      "# M = M / float(len(data_set))\n",
      "\n",
      "\n",
      "#M = np.array([[0.37600496, 0.63661167], [ 1.69437703, 0.87935   ]])\n",
      "print \"M is \", M\n",
      "\n",
      "def frobenius_norm(M1, M2):\n",
      "    total = 0.0\n",
      "    for a,b in zip(M1, M2):\n",
      "        for c, d in zip(a, b):\n",
      "            total += (c - d)*(c - d)\n",
      "    return total\n",
      "\n",
      "# U and V are d x k dimension matrix\n",
      "v = np.random.rand(d,k)\n",
      "print \"V start with, \", v\n",
      "u = np.random.rand(d,k)\n",
      "print \"U start with, \", u\n",
      "\n",
      "for j in range(0, 10):\n",
      "    for i in range(0, len(data_set)):\n",
      "        #print u\n",
      "        u = u - learning_rate * ((data_set[i] * np.transpose(data_set[i]) - u * np.transpose(v)) * v)\n",
      "    for i in range(0, len(data_set)):\n",
      "        #print v\n",
      "        v = v - learning_rate * ((data_set[i] * np.transpose(data_set[i]) - u * np.transpose(v)) * u)\n",
      "    print frobenius_norm(M, u * np.transpose(v))\n",
      "    #print u\n",
      "    #print v\n",
      "print u * np.transpose(v)"
     ],
     "language": "python",
     "metadata": {},
     "outputs": [
      {
       "output_type": "stream",
       "stream": "stdout",
       "text": [
        "M is  [[1 1 1]\n",
        " [1 1 1]\n",
        " [1 1 1]]\n",
        "V start with,  [[ 0.16473968  0.64628098  0.38863784]\n",
        " [ 0.29100544  0.84809884  0.09314112]\n",
        " [ 0.31030275  0.01015625  0.64956944]]\n",
        "U start with,  [[ 0.0200165   0.77613965  0.22225356]\n",
        " [ 0.36743007  0.36184664  0.75898134]\n",
        " [ 0.25805423  0.78686039  0.19083439]]\n",
        "2.65119238352\n",
        "2.66749159158\n",
        "2.68362964853\n",
        "2.6996153469\n",
        "2.71545767652\n",
        "2.73116582072\n",
        "2.74674915381\n",
        "2.7622172397\n",
        "2.77757983155\n",
        "2.79284687264\n",
        "[[-0.00048087  0.17012211  0.04733121]\n",
        " [ 0.18169256  0.20383801 -0.0748315 ]\n",
        " [ 0.07871649 -0.01041257  0.06496205]]\n"
       ]
      }
     ],
     "prompt_number": 78
    },
    {
     "cell_type": "code",
     "collapsed": false,
     "input": [],
     "language": "python",
     "metadata": {},
     "outputs": [],
     "prompt_number": 78
    },
    {
     "cell_type": "code",
     "collapsed": false,
     "input": [],
     "language": "python",
     "metadata": {},
     "outputs": [],
     "prompt_number": 78
    },
    {
     "cell_type": "code",
     "collapsed": false,
     "input": [],
     "language": "python",
     "metadata": {},
     "outputs": [],
     "prompt_number": 78
    },
    {
     "cell_type": "code",
     "collapsed": false,
     "input": [],
     "language": "python",
     "metadata": {},
     "outputs": [],
     "prompt_number": 78
    }
   ],
   "metadata": {}
  }
 ]
}