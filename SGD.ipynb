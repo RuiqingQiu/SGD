{
 "metadata": {
  "name": "",
  "signature": "sha256:0214de483f60e2c8031c8bf9751d652adeff41f97c1098ab5ce658f14cf8b4cc"
 },
 "nbformat": 3,
 "nbformat_minor": 0,
 "worksheets": [
  {
   "cells": [
    {
     "cell_type": "code",
     "collapsed": false,
     "input": [
      "import math\n",
      "import numpy as np"
     ],
     "language": "python",
     "metadata": {},
     "outputs": [],
     "prompt_number": 83
    },
    {
     "cell_type": "code",
     "collapsed": false,
     "input": [
      "d = 3\n",
      "k = 3\n",
      "learning_rate = 0.001\n",
      "data_set = []\n",
      "#M = np.random.randn(d, d)\n",
      "#M = np.random.rand(n,n)\n",
      "for i in range(100):\n",
      "    data_set.append(np.random.rand(1, 3))\n",
      "# x1 = np.array(\n",
      "#     [[1, 1, 1]]\n",
      "# )\n",
      "# x2 = np.array(\n",
      "#     [[2, 2, 2]]\n",
      "# )\n",
      "# x3 = np.array(\n",
      "#     [[3,3,3]]\n",
      "# )\n",
      "# data_set.append(x1)\n",
      "# data_set.append(x2)\n",
      "# data_set.append(x3)\n",
      "# M = data_set[0] * np.transpose(data_set[0])\n",
      "# for i in data_set[1:]:\n",
      "#     M = M + x * np.transpose(x)\n",
      "# M = M / float(len(data_set))\n",
      "\n",
      "\n",
      "# M = np.array([[0.37600496, 0.63661167], [ 1.69437703, 0.87935   ]])\n",
      "# print \"M is \", M\n",
      "\n",
      "def frobenius_norm(M1, M2):\n",
      "    total = 0.0\n",
      "    for a,b in zip(M1, M2):\n",
      "        for c, d in zip(a, b):\n",
      "            total += (c - d)*(c - d)\n",
      "    return total\n",
      "\n",
      "# U and V are d x k dimension matrix\n",
      "v = np.random.rand(d,k)\n",
      "print \"V start with, \", v\n",
      "u = np.random.rand(d,k)\n",
      "print \"U start with, \", u\n",
      "\n",
      "for j in range(0, 10):\n",
      "    for i in range(0, len(data_set)):\n",
      "        #print u\n",
      "        u = u - learning_rate * ((data_set[i] * np.transpose(data_set[i]) - u * np.transpose(v)) * v)\n",
      "    for i in range(0, len(data_set)):\n",
      "        #print v\n",
      "        v = v - learning_rate * ((data_set[i] * np.transpose(data_set[i]) - u * np.transpose(v)) * u)\n",
      "    print frobenius_norm(M, u * np.transpose(v))\n",
      "    #print u\n",
      "    #print v\n",
      "print u * np.transpose(v)"
     ],
     "language": "python",
     "metadata": {},
     "outputs": [
      {
       "output_type": "stream",
       "stream": "stdout",
       "text": [
        "V start with,  [[ 0.19542119  0.65274367  0.09957283]\n",
        " [ 0.68662981  0.63855424  0.90748993]\n",
        " [ 0.2713643   0.97285933  0.3573081 ]]\n",
        "U start with,  [[ 0.89660709  0.21037523  0.66433006]\n",
        " [ 0.71867379  0.90850476  0.52862396]\n",
        " [ 0.23334799  0.22845253  0.05853819]]\n",
        "5.30158657821\n",
        "5.2810499757\n",
        "5.2587175809\n",
        "5.23734823342\n",
        "5.22364826711\n",
        "5.23416083949\n",
        "5.3126387568\n",
        "5.5908274007\n",
        "6.56384333308\n",
        "11.0361136954\n",
        "[[ -6.87945715e-02   1.18227547e-01   1.42377888e-01]\n",
        " [  5.84236968e-01   3.38837927e+00   1.02969805e+00]\n",
        " [  2.08639382e-03   3.23039171e-01  -2.39871016e-02]]\n"
       ]
      }
     ],
     "prompt_number": 84
    },
    {
     "cell_type": "code",
     "collapsed": false,
     "input": [],
     "language": "python",
     "metadata": {},
     "outputs": [],
     "prompt_number": 84
    },
    {
     "cell_type": "code",
     "collapsed": false,
     "input": [],
     "language": "python",
     "metadata": {},
     "outputs": [],
     "prompt_number": 84
    },
    {
     "cell_type": "code",
     "collapsed": false,
     "input": [],
     "language": "python",
     "metadata": {},
     "outputs": [],
     "prompt_number": 84
    },
    {
     "cell_type": "code",
     "collapsed": false,
     "input": [],
     "language": "python",
     "metadata": {},
     "outputs": [],
     "prompt_number": 84
    }
   ],
   "metadata": {}
  }
 ]
}